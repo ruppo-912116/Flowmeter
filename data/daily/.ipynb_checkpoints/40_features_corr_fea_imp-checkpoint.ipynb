{
 "cells": [
  {
   "cell_type": "code",
   "execution_count": 1,
   "metadata": {},
   "outputs": [],
   "source": [
    "import pandas as pd\n",
    "import numpy as np\n",
    "import pickle "
   ]
  },
  {
   "cell_type": "code",
   "execution_count": 2,
   "metadata": {},
   "outputs": [],
   "source": [
    "#importting model\n",
    "load = pickle.load(open('model_33_features.pkl','rb'))"
   ]
  },
  {
   "cell_type": "code",
   "execution_count": 3,
   "metadata": {},
   "outputs": [
    {
     "name": "stdout",
     "output_type": "stream",
     "text": [
      "(953, 84)\n"
     ]
    },
    {
     "data": {
      "text/html": [
       "<div>\n",
       "<style scoped>\n",
       "    .dataframe tbody tr th:only-of-type {\n",
       "        vertical-align: middle;\n",
       "    }\n",
       "\n",
       "    .dataframe tbody tr th {\n",
       "        vertical-align: top;\n",
       "    }\n",
       "\n",
       "    .dataframe thead th {\n",
       "        text-align: right;\n",
       "    }\n",
       "</style>\n",
       "<table border=\"1\" class=\"dataframe\">\n",
       "  <thead>\n",
       "    <tr style=\"text-align: right;\">\n",
       "      <th></th>\n",
       "      <th>Flow ID</th>\n",
       "      <th>Src IP</th>\n",
       "      <th>Src Port</th>\n",
       "      <th>Dst IP</th>\n",
       "      <th>Dst Port</th>\n",
       "      <th>Protocol</th>\n",
       "      <th>Timestamp</th>\n",
       "      <th>Flow Duration</th>\n",
       "      <th>Tot Fwd Pkts</th>\n",
       "      <th>Tot Bwd Pkts</th>\n",
       "      <th>...</th>\n",
       "      <th>Fwd Seg Size Min</th>\n",
       "      <th>Active Mean</th>\n",
       "      <th>Active Std</th>\n",
       "      <th>Active Max</th>\n",
       "      <th>Active Min</th>\n",
       "      <th>Idle Mean</th>\n",
       "      <th>Idle Std</th>\n",
       "      <th>Idle Max</th>\n",
       "      <th>Idle Min</th>\n",
       "      <th>Label</th>\n",
       "    </tr>\n",
       "  </thead>\n",
       "  <tbody>\n",
       "    <tr>\n",
       "      <th>0</th>\n",
       "      <td>192.168.0.104-107.23.97.250-44130-443-6</td>\n",
       "      <td>192.168.0.104</td>\n",
       "      <td>44130</td>\n",
       "      <td>107.23.97.250</td>\n",
       "      <td>443</td>\n",
       "      <td>6</td>\n",
       "      <td>13/09/2020 10:34:05 AM</td>\n",
       "      <td>666548</td>\n",
       "      <td>7</td>\n",
       "      <td>4</td>\n",
       "      <td>...</td>\n",
       "      <td>32</td>\n",
       "      <td>0</td>\n",
       "      <td>0</td>\n",
       "      <td>0</td>\n",
       "      <td>0</td>\n",
       "      <td>1.599973e+15</td>\n",
       "      <td>2.497393e+05</td>\n",
       "      <td>1.599973e+15</td>\n",
       "      <td>1.599973e+15</td>\n",
       "      <td>No Label</td>\n",
       "    </tr>\n",
       "    <tr>\n",
       "      <th>1</th>\n",
       "      <td>107.23.97.250-192.168.0.104-443-44130-6</td>\n",
       "      <td>107.23.97.250</td>\n",
       "      <td>443</td>\n",
       "      <td>192.168.0.104</td>\n",
       "      <td>44130</td>\n",
       "      <td>6</td>\n",
       "      <td>13/09/2020 10:34:06 AM</td>\n",
       "      <td>46</td>\n",
       "      <td>2</td>\n",
       "      <td>1</td>\n",
       "      <td>...</td>\n",
       "      <td>32</td>\n",
       "      <td>0</td>\n",
       "      <td>0</td>\n",
       "      <td>0</td>\n",
       "      <td>0</td>\n",
       "      <td>0.000000e+00</td>\n",
       "      <td>0.000000e+00</td>\n",
       "      <td>0.000000e+00</td>\n",
       "      <td>0.000000e+00</td>\n",
       "      <td>No Label</td>\n",
       "    </tr>\n",
       "    <tr>\n",
       "      <th>2</th>\n",
       "      <td>192.168.0.104-52.22.132.36-32952-443-6</td>\n",
       "      <td>192.168.0.104</td>\n",
       "      <td>32952</td>\n",
       "      <td>52.22.132.36</td>\n",
       "      <td>443</td>\n",
       "      <td>6</td>\n",
       "      <td>13/09/2020 10:34:08 AM</td>\n",
       "      <td>431469</td>\n",
       "      <td>4</td>\n",
       "      <td>1</td>\n",
       "      <td>...</td>\n",
       "      <td>32</td>\n",
       "      <td>0</td>\n",
       "      <td>0</td>\n",
       "      <td>0</td>\n",
       "      <td>0</td>\n",
       "      <td>1.599973e+15</td>\n",
       "      <td>2.848106e+05</td>\n",
       "      <td>1.599973e+15</td>\n",
       "      <td>1.599973e+15</td>\n",
       "      <td>No Label</td>\n",
       "    </tr>\n",
       "    <tr>\n",
       "      <th>3</th>\n",
       "      <td>52.22.132.36-192.168.0.104-443-32952-6</td>\n",
       "      <td>52.22.132.36</td>\n",
       "      <td>443</td>\n",
       "      <td>192.168.0.104</td>\n",
       "      <td>32952</td>\n",
       "      <td>6</td>\n",
       "      <td>13/09/2020 10:34:09 AM</td>\n",
       "      <td>3390</td>\n",
       "      <td>6</td>\n",
       "      <td>4</td>\n",
       "      <td>...</td>\n",
       "      <td>32</td>\n",
       "      <td>0</td>\n",
       "      <td>0</td>\n",
       "      <td>0</td>\n",
       "      <td>0</td>\n",
       "      <td>1.599973e+15</td>\n",
       "      <td>1.569211e+03</td>\n",
       "      <td>1.599973e+15</td>\n",
       "      <td>1.599973e+15</td>\n",
       "      <td>No Label</td>\n",
       "    </tr>\n",
       "    <tr>\n",
       "      <th>4</th>\n",
       "      <td>127.0.0.1-127.0.0.1-53816-53816-17</td>\n",
       "      <td>127.0.0.1</td>\n",
       "      <td>53816</td>\n",
       "      <td>127.0.0.1</td>\n",
       "      <td>53816</td>\n",
       "      <td>17</td>\n",
       "      <td>13/09/2020 10:32:40 AM</td>\n",
       "      <td>60082979</td>\n",
       "      <td>12</td>\n",
       "      <td>0</td>\n",
       "      <td>...</td>\n",
       "      <td>8</td>\n",
       "      <td>0</td>\n",
       "      <td>0</td>\n",
       "      <td>0</td>\n",
       "      <td>0</td>\n",
       "      <td>1.599972e+15</td>\n",
       "      <td>3.164801e+07</td>\n",
       "      <td>1.599973e+15</td>\n",
       "      <td>1.599972e+15</td>\n",
       "      <td>No Label</td>\n",
       "    </tr>\n",
       "  </tbody>\n",
       "</table>\n",
       "<p>5 rows × 84 columns</p>\n",
       "</div>"
      ],
      "text/plain": [
       "                                   Flow ID         Src IP  Src Port  \\\n",
       "0  192.168.0.104-107.23.97.250-44130-443-6  192.168.0.104     44130   \n",
       "1  107.23.97.250-192.168.0.104-443-44130-6  107.23.97.250       443   \n",
       "2   192.168.0.104-52.22.132.36-32952-443-6  192.168.0.104     32952   \n",
       "3   52.22.132.36-192.168.0.104-443-32952-6   52.22.132.36       443   \n",
       "4       127.0.0.1-127.0.0.1-53816-53816-17      127.0.0.1     53816   \n",
       "\n",
       "          Dst IP  Dst Port  Protocol               Timestamp  Flow Duration  \\\n",
       "0  107.23.97.250       443         6  13/09/2020 10:34:05 AM         666548   \n",
       "1  192.168.0.104     44130         6  13/09/2020 10:34:06 AM             46   \n",
       "2   52.22.132.36       443         6  13/09/2020 10:34:08 AM         431469   \n",
       "3  192.168.0.104     32952         6  13/09/2020 10:34:09 AM           3390   \n",
       "4      127.0.0.1     53816        17  13/09/2020 10:32:40 AM       60082979   \n",
       "\n",
       "   Tot Fwd Pkts  Tot Bwd Pkts  ...  Fwd Seg Size Min  Active Mean  Active Std  \\\n",
       "0             7             4  ...                32            0           0   \n",
       "1             2             1  ...                32            0           0   \n",
       "2             4             1  ...                32            0           0   \n",
       "3             6             4  ...                32            0           0   \n",
       "4            12             0  ...                 8            0           0   \n",
       "\n",
       "   Active Max  Active Min     Idle Mean      Idle Std      Idle Max  \\\n",
       "0           0           0  1.599973e+15  2.497393e+05  1.599973e+15   \n",
       "1           0           0  0.000000e+00  0.000000e+00  0.000000e+00   \n",
       "2           0           0  1.599973e+15  2.848106e+05  1.599973e+15   \n",
       "3           0           0  1.599973e+15  1.569211e+03  1.599973e+15   \n",
       "4           0           0  1.599972e+15  3.164801e+07  1.599973e+15   \n",
       "\n",
       "       Idle Min     Label  \n",
       "0  1.599973e+15  No Label  \n",
       "1  0.000000e+00  No Label  \n",
       "2  1.599973e+15  No Label  \n",
       "3  1.599973e+15  No Label  \n",
       "4  1.599972e+15  No Label  \n",
       "\n",
       "[5 rows x 84 columns]"
      ]
     },
     "execution_count": 3,
     "metadata": {},
     "output_type": "execute_result"
    }
   ],
   "source": [
    "data = pd.read_csv('2020-09-13_Flow.csv')\n",
    "print(data.shape)\n",
    "data.head()"
   ]
  },
  {
   "cell_type": "code",
   "execution_count": 4,
   "metadata": {},
   "outputs": [
    {
     "data": {
      "text/plain": [
       "(953, 84)"
      ]
     },
     "execution_count": 4,
     "metadata": {},
     "output_type": "execute_result"
    }
   ],
   "source": [
    "data.shape"
   ]
  },
  {
   "cell_type": "code",
   "execution_count": 5,
   "metadata": {},
   "outputs": [],
   "source": [
    "test = data[['Dst Port', 'Flow Duration', 'Tot Fwd Pkts', 'Fwd Pkt Len Max',\n",
    "       'Fwd Pkt Len Min', 'Bwd Pkt Len Max', 'Bwd Pkt Len Min', 'Flow Pkts/s',\n",
    "       'Bwd IAT Tot', 'Fwd PSH Flags', 'Bwd Pkts/s', 'RST Flag Cnt',\n",
    "       'PSH Flag Cnt', 'URG Flag Cnt', 'Down/Up Ratio', 'Init Bwd Win Byts',\n",
    "       'Fwd Seg Size Min', 'Active Mean', 'Active Std', 'Idle Std',\n",
    "        'Subflow Fwd Pkts','Fwd IAT Max', 'Idle Min','Fwd IAT Mean',\n",
    "        'Fwd IAT Tot','Subflow Fwd Byts', 'Fwd Seg Size Avg','Pkt Size Avg','Pkt Len Mean',\n",
    "        'Subflow Bwd Byts','Fwd Pkt Len Mean','Idle Max','Flow Byts/s']]"
   ]
  },
  {
   "cell_type": "code",
   "execution_count": 29,
   "metadata": {},
   "outputs": [
    {
     "data": {
      "text/plain": [
       "(1317, 33)"
      ]
     },
     "execution_count": 29,
     "metadata": {},
     "output_type": "execute_result"
    }
   ],
   "source": [
    "data.shape"
   ]
  },
  {
   "cell_type": "code",
   "execution_count": 30,
   "metadata": {},
   "outputs": [],
   "source": [
    "# drop cause it is not in CICFlow meter dataset\n",
    "data = data.drop(' Fwd Header Length.1', axis=1)"
   ]
  },
  {
   "cell_type": "code",
   "execution_count": 31,
   "metadata": {},
   "outputs": [
    {
     "data": {
      "text/plain": [
       "array([0, 0, 0, ..., 0, 0, 4])"
      ]
     },
     "execution_count": 31,
     "metadata": {},
     "output_type": "execute_result"
    }
   ],
   "source": [
    "# lets shuffle the data, permutation returns the copy of shuffled arrray\n",
    "data = data.reindex(np.random.permutation(data.index))"
   ]
  },
  {
   "cell_type": "code",
   "execution_count": 32,
   "metadata": {},
   "outputs": [],
   "source": [
    "data['Label'].unique()"
   ]
  },
  {
   "cell_type": "code",
   "execution_count": 33,
   "metadata": {},
   "outputs": [
    {
     "data": {
      "text/plain": [
       "0.8663629460895975"
      ]
     },
     "execution_count": 33,
     "metadata": {},
     "output_type": "execute_result"
    }
   ],
   "source": [
    "sns.countplot(x='Label',data=data);"
   ]
  },
  {
   "cell_type": "code",
   "execution_count": 11,
   "metadata": {},
   "outputs": [],
   "source": [
    "# Instead of dropping rows which contain any nulls and infinite numbers, \n",
    "# it is more succinct to the reverse the logic of that and instead \n",
    "#return the rows where all cells are finite numbers. \n",
    "#The numpy isfinite function does this and the '.all(1)' will only return a \n",
    "#TRUE if all cells in row are finite.\n",
    "data = data[np.isfinite(data).all(1)]"
   ]
  },
  {
   "cell_type": "code",
   "execution_count": 12,
   "metadata": {},
   "outputs": [
    {
     "data": {
      "text/plain": [
       "(740320, 68)"
      ]
     },
     "execution_count": 12,
     "metadata": {},
     "output_type": "execute_result"
    }
   ],
   "source": [
    "data.shape"
   ]
  },
  {
   "cell_type": "code",
   "execution_count": 13,
   "metadata": {},
   "outputs": [],
   "source": [
    "features = data[['Dst Port', 'Flow Duration', 'Tot Fwd Pkts', 'Fwd Pkt Len Max',\n",
    "       'Fwd Pkt Len Min', 'Bwd Pkt Len Max', 'Bwd Pkt Len Min', 'Flow Pkts/s',\n",
    "       'Bwd IAT Tot', 'Fwd PSH Flags', 'Bwd Pkts/s', 'RST Flag Cnt',\n",
    "       'PSH Flag Cnt', 'URG Flag Cnt', 'Down/Up Ratio', 'Init Bwd Win Byts',\n",
    "       'Fwd Seg Size Min', 'Active Mean', 'Active Std', 'Idle Std',\n",
    "        'Subflow Fwd Pkts','Fwd IAT Max', 'Idle Min','Fwd IAT Mean',\n",
    "        'Fwd IAT Tot','Subflow Fwd Byts', 'Fwd Seg Size Avg','Pkt Size Avg','Pkt Len Mean',\n",
    "        'Subflow Bwd Byts','Fwd Pkt Len Mean','Idle Max','Flow Byts/s']]"
   ]
  },
  {
   "cell_type": "code",
   "execution_count": 14,
   "metadata": {},
   "outputs": [],
   "source": [
    "X = features\n",
    "y = data.iloc[:,-1]"
   ]
  },
  {
   "cell_type": "code",
   "execution_count": 15,
   "metadata": {},
   "outputs": [
    {
     "name": "stdout",
     "output_type": "stream",
     "text": [
      "<class 'pandas.core.frame.DataFrame'>\n",
      "Int64Index: 740320 entries, 44667 to 59409\n",
      "Data columns (total 33 columns):\n",
      " #   Column             Non-Null Count   Dtype  \n",
      "---  ------             --------------   -----  \n",
      " 0   Dst Port           740320 non-null  int64  \n",
      " 1   Flow Duration      740320 non-null  int64  \n",
      " 2   Tot Fwd Pkts       740320 non-null  int64  \n",
      " 3   Fwd Pkt Len Max    740320 non-null  int64  \n",
      " 4   Fwd Pkt Len Min    740320 non-null  int64  \n",
      " 5   Bwd Pkt Len Max    740320 non-null  int64  \n",
      " 6   Bwd Pkt Len Min    740320 non-null  int64  \n",
      " 7   Flow Pkts/s        740320 non-null  float64\n",
      " 8   Bwd IAT Tot        740320 non-null  int64  \n",
      " 9   Fwd PSH Flags      740320 non-null  int64  \n",
      " 10  Bwd Pkts/s         740320 non-null  float64\n",
      " 11  RST Flag Cnt       740320 non-null  int64  \n",
      " 12  PSH Flag Cnt       740320 non-null  int64  \n",
      " 13  URG Flag Cnt       740320 non-null  int64  \n",
      " 14  Down/Up Ratio      740320 non-null  int64  \n",
      " 15  Init Bwd Win Byts  740320 non-null  int64  \n",
      " 16  Fwd Seg Size Min   740320 non-null  int64  \n",
      " 17  Active Mean        740320 non-null  float64\n",
      " 18  Active Std         740320 non-null  float64\n",
      " 19  Idle Std           740320 non-null  float64\n",
      " 20  Subflow Fwd Pkts   740320 non-null  int64  \n",
      " 21  Fwd IAT Max        740320 non-null  int64  \n",
      " 22  Idle Min           740320 non-null  int64  \n",
      " 23  Fwd IAT Mean       740320 non-null  float64\n",
      " 24  Fwd IAT Tot        740320 non-null  int64  \n",
      " 25  Subflow Fwd Byts   740320 non-null  int64  \n",
      " 26  Fwd Seg Size Avg   740320 non-null  float64\n",
      " 27  Pkt Size Avg       740320 non-null  float64\n",
      " 28  Pkt Len Mean       740320 non-null  float64\n",
      " 29  Subflow Bwd Byts   740320 non-null  int64  \n",
      " 30  Fwd Pkt Len Mean   740320 non-null  float64\n",
      " 31  Idle Max           740320 non-null  int64  \n",
      " 32  Flow Byts/s        740320 non-null  float64\n",
      "dtypes: float64(11), int64(22)\n",
      "memory usage: 192.0 MB\n"
     ]
    }
   ],
   "source": [
    "X.info()"
   ]
  },
  {
   "cell_type": "code",
   "execution_count": 16,
   "metadata": {},
   "outputs": [],
   "source": [
    "from sklearn.model_selection import train_test_split"
   ]
  },
  {
   "cell_type": "code",
   "execution_count": 17,
   "metadata": {},
   "outputs": [],
   "source": [
    "# separating data to train and test\n",
    "X_train, X_test, y_train, y_test = train_test_split(X, y, test_size= 0.2, random_state= 42)"
   ]
  },
  {
   "cell_type": "code",
   "execution_count": 18,
   "metadata": {},
   "outputs": [
    {
     "data": {
      "text/plain": [
       "((592256, 33), (592256,), (148064, 33))"
      ]
     },
     "execution_count": 18,
     "metadata": {},
     "output_type": "execute_result"
    }
   ],
   "source": [
    "X_train.shape, y_train.shape, X_test.shape"
   ]
  },
  {
   "cell_type": "code",
   "execution_count": 19,
   "metadata": {},
   "outputs": [],
   "source": [
    "from sklearn.ensemble import RandomForestClassifier"
   ]
  },
  {
   "cell_type": "code",
   "execution_count": 20,
   "metadata": {},
   "outputs": [],
   "source": [
    "clf = RandomForestClassifier(n_estimators=500, max_depth=4, random_state=42)\n",
    "\n",
    "clf.fit(X_train,y_train)\n",
    "\n",
    "y_pred=clf.predict(X_test)"
   ]
  },
  {
   "cell_type": "code",
   "execution_count": 35,
   "metadata": {},
   "outputs": [],
   "source": [
    "import pickle"
   ]
  },
  {
   "cell_type": "code",
   "execution_count": 37,
   "metadata": {},
   "outputs": [],
   "source": [
    "# Save the Modle to file in the current working directory\n",
    "\n",
    "Pkl_Filename = \"model_33_features.pkl\"  \n",
    "\n",
    "with open(Pkl_Filename, 'wb') as file:  \n",
    "    pickle.dump(clf, file)"
   ]
  },
  {
   "cell_type": "code",
   "execution_count": 38,
   "metadata": {},
   "outputs": [
    {
     "data": {
      "text/plain": [
       "RandomForestClassifier(bootstrap=True, ccp_alpha=0.0, class_weight=None,\n",
       "                       criterion='gini', max_depth=4, max_features='auto',\n",
       "                       max_leaf_nodes=None, max_samples=None,\n",
       "                       min_impurity_decrease=0.0, min_impurity_split=None,\n",
       "                       min_samples_leaf=1, min_samples_split=2,\n",
       "                       min_weight_fraction_leaf=0.0, n_estimators=500,\n",
       "                       n_jobs=None, oob_score=False, random_state=42, verbose=0,\n",
       "                       warm_start=False)"
      ]
     },
     "execution_count": 38,
     "metadata": {},
     "output_type": "execute_result"
    }
   ],
   "source": [
    "# Load the Model back from file\n",
    "with open(Pkl_Filename, 'rb') as file:  \n",
    "    Pickled_Model = pickle.load(file)\n",
    "\n",
    "Pickled_Model"
   ]
  },
  {
   "cell_type": "code",
   "execution_count": 21,
   "metadata": {},
   "outputs": [],
   "source": [
    "predictions = clf.predict(X_test)"
   ]
  },
  {
   "cell_type": "code",
   "execution_count": 34,
   "metadata": {},
   "outputs": [
    {
     "data": {
      "text/plain": [
       "array([0.11076931, 0.00118481, 0.04528474, 0.00806953, 0.8346916 ])"
      ]
     },
     "execution_count": 34,
     "metadata": {},
     "output_type": "execute_result"
    }
   ],
   "source": [
    "# viewing the predicted probabilites of first 10 rows of test\n",
    "clf.predict_proba(X_test)[0]"
   ]
  },
  {
   "cell_type": "code",
   "execution_count": 23,
   "metadata": {},
   "outputs": [
    {
     "name": "stdout",
     "output_type": "stream",
     "text": [
      "Accuracy: 0.973450669980549\n"
     ]
    }
   ],
   "source": [
    "from sklearn import metrics\n",
    "print(\"Accuracy:\",metrics.accuracy_score(y_test, predictions))"
   ]
  },
  {
   "cell_type": "code",
   "execution_count": 24,
   "metadata": {},
   "outputs": [],
   "source": [
    "X_test1 = pd.read_csv('2020-09-06_Flow.csv')"
   ]
  },
  {
   "cell_type": "code",
   "execution_count": 25,
   "metadata": {},
   "outputs": [],
   "source": [
    "X_test1 = X_test1.drop(['Flow ID','Src IP', 'Src Port', 'Dst IP', 'Protocol', 'Timestamp','Bwd PSH Flags', 'Fwd URG Flags', 'Bwd URG Flags','CWE Flag Count','Fwd Byts/b Avg', 'Fwd Pkts/b Avg', 'Fwd Blk Rate Avg',\n",
    "       'Bwd Byts/b Avg', 'Bwd Pkts/b Avg', 'Bwd Blk Rate Avg'], axis=1)"
   ]
  },
  {
   "cell_type": "code",
   "execution_count": 26,
   "metadata": {},
   "outputs": [],
   "source": [
    "X_test1 = X_test1.drop('Label', axis=1)"
   ]
  },
  {
   "cell_type": "code",
   "execution_count": 27,
   "metadata": {},
   "outputs": [],
   "source": [
    "X_test1 = X_test1[['Dst Port', 'Flow Duration', 'Tot Fwd Pkts', 'Fwd Pkt Len Max',\n",
    "       'Fwd Pkt Len Min', 'Bwd Pkt Len Max', 'Bwd Pkt Len Min', 'Flow Pkts/s',\n",
    "       'Bwd IAT Tot', 'Fwd PSH Flags', 'Bwd Pkts/s', 'RST Flag Cnt',\n",
    "       'PSH Flag Cnt', 'URG Flag Cnt', 'Down/Up Ratio', 'Init Bwd Win Byts',\n",
    "       'Fwd Seg Size Min', 'Active Mean', 'Active Std', 'Idle Std',\n",
    "        'Subflow Fwd Pkts','Fwd IAT Max', 'Idle Min','Fwd IAT Mean',\n",
    "        'Fwd IAT Tot','Subflow Fwd Byts', 'Fwd Seg Size Avg','Pkt Size Avg','Pkt Len Mean',\n",
    "        'Subflow Bwd Byts','Fwd Pkt Len Mean','Idle Max','Flow Byts/s']]"
   ]
  },
  {
   "cell_type": "code",
   "execution_count": 28,
   "metadata": {},
   "outputs": [
    {
     "name": "stdout",
     "output_type": "stream",
     "text": [
      "<class 'pandas.core.frame.DataFrame'>\n",
      "RangeIndex: 500 entries, 0 to 499\n",
      "Data columns (total 33 columns):\n",
      " #   Column             Non-Null Count  Dtype  \n",
      "---  ------             --------------  -----  \n",
      " 0   Dst Port           500 non-null    int64  \n",
      " 1   Flow Duration      500 non-null    int64  \n",
      " 2   Tot Fwd Pkts       500 non-null    int64  \n",
      " 3   Fwd Pkt Len Max    500 non-null    int64  \n",
      " 4   Fwd Pkt Len Min    500 non-null    int64  \n",
      " 5   Bwd Pkt Len Max    500 non-null    int64  \n",
      " 6   Bwd Pkt Len Min    500 non-null    int64  \n",
      " 7   Flow Pkts/s        500 non-null    float64\n",
      " 8   Bwd IAT Tot        500 non-null    int64  \n",
      " 9   Fwd PSH Flags      500 non-null    int64  \n",
      " 10  Bwd Pkts/s         500 non-null    float64\n",
      " 11  RST Flag Cnt       500 non-null    int64  \n",
      " 12  PSH Flag Cnt       500 non-null    int64  \n",
      " 13  URG Flag Cnt       500 non-null    int64  \n",
      " 14  Down/Up Ratio      500 non-null    int64  \n",
      " 15  Init Bwd Win Byts  500 non-null    int64  \n",
      " 16  Fwd Seg Size Min   500 non-null    int64  \n",
      " 17  Active Mean        500 non-null    int64  \n",
      " 18  Active Std         500 non-null    int64  \n",
      " 19  Idle Std           500 non-null    float64\n",
      " 20  Subflow Fwd Pkts   500 non-null    int64  \n",
      " 21  Fwd IAT Max        500 non-null    int64  \n",
      " 22  Idle Min           500 non-null    float64\n",
      " 23  Fwd IAT Mean       500 non-null    float64\n",
      " 24  Fwd IAT Tot        500 non-null    int64  \n",
      " 25  Subflow Fwd Byts   500 non-null    int64  \n",
      " 26  Fwd Seg Size Avg   500 non-null    float64\n",
      " 27  Pkt Size Avg       500 non-null    float64\n",
      " 28  Pkt Len Mean       500 non-null    float64\n",
      " 29  Subflow Bwd Byts   500 non-null    int64  \n",
      " 30  Fwd Pkt Len Mean   500 non-null    float64\n",
      " 31  Idle Max           500 non-null    float64\n",
      " 32  Flow Byts/s        500 non-null    float64\n",
      "dtypes: float64(11), int64(22)\n",
      "memory usage: 129.0 KB\n"
     ]
    }
   ],
   "source": [
    "X_test1.info()"
   ]
  },
  {
   "cell_type": "code",
   "execution_count": 29,
   "metadata": {},
   "outputs": [],
   "source": [
    "predictions1 = clf.predict(X_test1)"
   ]
  },
  {
   "cell_type": "code",
   "execution_count": 30,
   "metadata": {},
   "outputs": [
    {
     "data": {
      "text/plain": [
       "array([[0.60696864, 0.00915214, 0.10538532, 0.01712846, 0.26136544],\n",
       "       [0.58217012, 0.0066806 , 0.06499118, 0.05595712, 0.29020099],\n",
       "       [0.63312926, 0.00574202, 0.09353464, 0.01194014, 0.25565394]])"
      ]
     },
     "execution_count": 30,
     "metadata": {},
     "output_type": "execute_result"
    }
   ],
   "source": [
    "# viewing the predicted probabilites of first 10 rows of test\n",
    "clf.predict_proba(X_test1)[0:3]"
   ]
  },
  {
   "cell_type": "code",
   "execution_count": 31,
   "metadata": {},
   "outputs": [
    {
     "name": "stdout",
     "output_type": "stream",
     "text": [
      "Accuracy: 0.288\n"
     ]
    }
   ],
   "source": [
    "from sklearn import metrics\n",
    "print(\"Accuracy:\",metrics.accuracy_score(y_test[:500], predictions1))"
   ]
  },
  {
   "cell_type": "code",
   "execution_count": 39,
   "metadata": {},
   "outputs": [],
   "source": [
    "test = pd.read_csv('2020-09-06_Flow.csv')"
   ]
  },
  {
   "cell_type": "code",
   "execution_count": 40,
   "metadata": {},
   "outputs": [],
   "source": [
    "cols = test[['Dst Port', 'Flow Duration', 'Tot Fwd Pkts', 'Fwd Pkt Len Max',\n",
    "       'Fwd Pkt Len Min', 'Bwd Pkt Len Max', 'Bwd Pkt Len Min', 'Flow Pkts/s',\n",
    "       'Bwd IAT Tot', 'Fwd PSH Flags', 'Bwd Pkts/s', 'RST Flag Cnt',\n",
    "       'PSH Flag Cnt', 'URG Flag Cnt', 'Down/Up Ratio', 'Init Bwd Win Byts',\n",
    "       'Fwd Seg Size Min', 'Active Mean', 'Active Std', 'Idle Std',\n",
    "        'Subflow Fwd Pkts','Fwd IAT Max', 'Idle Min','Fwd IAT Mean',\n",
    "        'Fwd IAT Tot','Subflow Fwd Byts', 'Fwd Seg Size Avg','Pkt Size Avg','Pkt Len Mean',\n",
    "        'Subflow Bwd Byts','Fwd Pkt Len Mean','Idle Max','Flow Byts/s']]"
   ]
  },
  {
   "cell_type": "code",
   "execution_count": 42,
   "metadata": {},
   "outputs": [
    {
     "data": {
      "text/plain": [
       "[4,\n",
       " 7,\n",
       " 8,\n",
       " 12,\n",
       " 13,\n",
       " 16,\n",
       " 17,\n",
       " 21,\n",
       " 31,\n",
       " 36,\n",
       " 43,\n",
       " 51,\n",
       " 52,\n",
       " 54,\n",
       " 57,\n",
       " 72,\n",
       " 74,\n",
       " 75,\n",
       " 76,\n",
       " 80,\n",
       " 67,\n",
       " 29,\n",
       " 82,\n",
       " 27,\n",
       " 26,\n",
       " 68,\n",
       " 59,\n",
       " 58,\n",
       " 46,\n",
       " 70,\n",
       " 14,\n",
       " 81,\n",
       " 20]"
      ]
     },
     "execution_count": 42,
     "metadata": {},
     "output_type": "execute_result"
    }
   ],
   "source": [
    "[test.columns.get_loc(c) for c in cols if c in test]"
   ]
  },
  {
   "cell_type": "code",
   "execution_count": null,
   "metadata": {},
   "outputs": [],
   "source": []
  }
 ],
 "metadata": {
  "kernelspec": {
   "display_name": "Python 3",
   "language": "python",
   "name": "python3"
  },
  "language_info": {
   "codemirror_mode": {
    "name": "ipython",
    "version": 3
   },
   "file_extension": ".py",
   "mimetype": "text/x-python",
   "name": "python",
   "nbconvert_exporter": "python",
   "pygments_lexer": "ipython3",
   "version": "3.7.7"
  }
 },
 "nbformat": 4,
 "nbformat_minor": 4
}
